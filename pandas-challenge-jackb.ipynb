{
 "cells": [
  {
   "cell_type": "markdown",
   "metadata": {},
   "source": [
    "### Note\n",
    "* Instructions have been included for each segment. You do not have to follow them exactly, but they are included to help you think through the steps."
   ]
  },
  {
   "cell_type": "code",
   "execution_count": null,
   "metadata": {},
   "outputs": [],
   "source": [
    "# Dependencies and Setup\n",
    "import pandas as pd\n",
    "\n",
    "# File to Load (Remember to Change These)\n",
    "file_to_load = \"Resources/purchase_data.csv\"\n",
    "\n",
    "# Read Purchasing File and store into Pandas data frame\n",
    "purchase_data = pd.read_csv(file_to_load)"
   ]
  },
  {
   "cell_type": "markdown",
   "metadata": {},
   "source": [
    "## Player Count"
   ]
  },
  {
   "cell_type": "markdown",
   "metadata": {},
   "source": [
    "* Display the total number of players\n"
   ]
  },
  {
   "cell_type": "code",
   "execution_count": null,
   "metadata": {},
   "outputs": [],
   "source": [
    "totalplayers= {'Total Players':[len(purchase_data['SN'].value_counts())]}\n",
    "\n",
    "totalplayers1 = pd.DataFrame(totalplayers)\n",
    "\n",
    "totalplayers1"
   ]
  },
  {
   "cell_type": "markdown",
   "metadata": {},
   "source": [
    "## Purchasing Analysis (Total)"
   ]
  },
  {
   "cell_type": "markdown",
   "metadata": {},
   "source": [
    "* Run basic calculations to obtain number of unique items, average price, etc.\n",
    "\n",
    "\n",
    "* Create a summary data frame to hold the results\n",
    "\n",
    "\n",
    "* Optional: give the displayed data cleaner formatting\n",
    "\n",
    "\n",
    "* Display the summary data frame\n"
   ]
  },
  {
   "cell_type": "code",
   "execution_count": null,
   "metadata": {
    "scrolled": true
   },
   "outputs": [],
   "source": [
    "#Number of Unique Items\n",
    "UniqueItems = len(purchase_data['Item Name'].value_counts())\n",
    "\n",
    "#Average Purchase Price\n",
    "Av_Purch_Price = round(purchase_data['Price'].mean(),2)\n",
    "\n",
    "\n",
    "#Total Purchase Value\n",
    "Total_Purchases = round(purchase_data['Price'].sum(),2)"
   ]
  },
  {
   "cell_type": "code",
   "execution_count": null,
   "metadata": {},
   "outputs": [],
   "source": [
    "#Purchasing Analysis (Total)\n",
    "\n",
    "PurchasingAnalysis= {'Unique Items':[UniqueItems],'Average Price':[AvPurchPrice],'Number of Purchases': [len(purchase_data)],'Total Purchases':[TotalPurchases]}\n",
    "\n",
    "PurchasingAnalysis1 =pd.DataFrame(PurchasingAnalysis)\n",
    "\n",
    "PurchasingAnalysis1 = PurchasingAnalysis1[['Unique Items','Average Price','Number of Purchases','Total Purchases']]\n",
    "\n",
    "PurchasingAnalysis1"
   ]
  },
  {
   "cell_type": "markdown",
   "metadata": {},
   "source": [
    "## Gender Demographics"
   ]
  },
  {
   "cell_type": "markdown",
   "metadata": {},
   "source": [
    "* Percentage and Count of Male Players\n",
    "\n",
    "\n",
    "* Percentage and Count of Female Players\n",
    "\n",
    "\n",
    "* Percentage and Count of Other / Non-Disclosed\n",
    "\n",
    "\n"
   ]
  },
  {
   "cell_type": "code",
   "execution_count": null,
   "metadata": {},
   "outputs": [],
   "source": [
    "#Gender Demographics\n",
    "\n",
    "# Total Count\n",
    "total_count = len(purchase_data[\"SN\"].unique())"
   ]
  },
  {
   "cell_type": "code",
   "execution_count": null,
   "metadata": {},
   "outputs": [],
   "source": [
    "#Percentage and Count of Male Players\n",
    "Male1= purchase_data.groupby(['Gender']).get_group(('Male'))\n",
    "\n",
    "Male2= len(Male1['SN'].unique())\n",
    "\n",
    "MalePercent= round((Male2/total_count)*100,2)"
   ]
  },
  {
   "cell_type": "code",
   "execution_count": null,
   "metadata": {},
   "outputs": [],
   "source": [
    "#Percentage and Count of Female Players\n",
    "Female1= purchase_data.groupby(['Gender']).get_group(('Female'))\n",
    "\n",
    "Female2= len(Female1['SN'].unique())\n",
    "\n",
    "FemalePercent= round((Female2/total_count)*100,2)\n"
   ]
  },
  {
   "cell_type": "code",
   "execution_count": null,
   "metadata": {},
   "outputs": [],
   "source": [
    "#Percentage and Count of Other / Non-Disclosed Players\n",
    "Other1= purchase_data.groupby(['Gender']).get_group(('Other / Non-Disclosed'))\n",
    "\n",
    "Other2= len(Other1['SN'].unique())\n",
    "\n",
    "OtherPercent= round((Other2/total_count)*100,2)"
   ]
  },
  {
   "cell_type": "code",
   "execution_count": null,
   "metadata": {},
   "outputs": [],
   "source": [
    "#Make it into a Gender DataFrame\n",
    "gender1 = {'Percent of Players':[MalePercent,FemalePercent,OtherPercent],'Gender':[\"Male\",'Female','Other'],'Gender Count':[Male2,Female2,Other2]}\n",
    "\n",
    "gender2 =  pd.DataFrame(gender1)\n",
    "\n",
    "gender2= gender2.set_index('Gender')\n",
    "\n",
    "gender2= gender2[['Percent of Players','Gender Count']]\n",
    "\n",
    "gender2"
   ]
  },
  {
   "cell_type": "markdown",
   "metadata": {},
   "source": [
    "\n",
    "## Purchasing Analysis (Gender)"
   ]
  },
  {
   "cell_type": "markdown",
   "metadata": {},
   "source": [
    "* Run basic calculations to obtain purchase count, avg. purchase price, avg. purchase total per person etc. by gender\n",
    "\n",
    "\n",
    "\n",
    "\n",
    "* Create a summary data frame to hold the results\n",
    "\n",
    "\n",
    "* Optional: give the displayed data cleaner formatting\n",
    "\n",
    "\n",
    "* Display the summary data frame"
   ]
  },
  {
   "cell_type": "code",
   "execution_count": null,
   "metadata": {},
   "outputs": [],
   "source": [
    "#Purchasing Analysis (Gender)\n",
    "\n",
    "#Purchase Count\n",
    "MalePurchaseCount = len(Male1)\n",
    "\n",
    "FemalePurchaseCount = len(Female1)\n",
    "\n",
    "OtherPurchaseCount = len(Other1)\n",
    "\n",
    "#Average Purchase Price\n",
    "MaleAvgPrice =round((Male1[\"Price\"].sum())/len(Male1[\"Price\"]),2)\n",
    "\n",
    "FemaleAvgPrice= round((Female1[\"Price\"].sum())/len(Female1[\"Price\"]),2)\n",
    "\n",
    "OtherAvgPrice= round((Other1[\"Price\"].sum())/len(Other1[\"Price\"]),2)\n",
    "\n",
    "\n",
    "#Total Purchase Value\n",
    "MaleTotalPurchase = round(Male1['Price'].sum(),2)\n",
    "\n",
    "FemaleTotalPurchase = round(Female1['Price'].sum(),2)\n",
    "\n",
    "OtherTotalPurchase = round(Other1['Price'].sum(),2)\n",
    "\n",
    "\n",
    "# Normalised Totals\n",
    "\n",
    "# male/female/Other\n",
    "NormMale = round((MaleTotalPurchase/MalePurchaseCount), 2)\n",
    "\n",
    "NormFemale = round((FemaleTotalPurchase/FemalePurchaseCount), 2)\n",
    "\n",
    "NormOther = round((OtherTotalPurchase/OtherPurchaseCount), 2)\n",
    "\n",
    "PurchByGender = {\"Purchase Count\":[MalePurchaseCount,FemalePurchaseCount,OtherPurchaseCount],\n",
    "                    \"Gender\":[\"Male\",\"Female\",\"Other\"],\n",
    "                    \"Average Purchase Price\":[MaleAvgPrice,FemaleAvgPrice,OtherAvgPrice],\n",
    "                    \"Total Purchase Value\":[MaleTotalPurchase,FemaleTotalPurchase,OtherTotalPurchase],\n",
    "                \"Normalized Totals\":[NormMale,NormFemale,NormOther]}\n",
    "PurchByGender1 = pd.DataFrame(PurchByGender)\n",
    "PurchByGender1 = PurchByGender1.set_index('Gender')\n",
    "PurchByGender1= PurchByGender1[['Purchase Count','Average Purchase Price','Total Purchase Value','Normalized Totals']]\n",
    "PurchByGender1"
   ]
  },
  {
   "cell_type": "markdown",
   "metadata": {},
   "source": [
    "## Age Demographics"
   ]
  },
  {
   "cell_type": "markdown",
   "metadata": {},
   "source": [
    "* Establish bins for ages\n",
    "\n",
    "\n",
    "* Categorize the existing players using the age bins. Hint: use pd.cut()\n",
    "\n",
    "\n",
    "* Calculate the numbers and percentages by age group\n",
    "\n",
    "\n",
    "* Create a summary data frame to hold the results\n",
    "\n",
    "\n",
    "* Optional: round the percentage column to two decimal points\n",
    "\n",
    "\n",
    "* Display Age Demographics Table\n"
   ]
  },
  {
   "cell_type": "code",
   "execution_count": null,
   "metadata": {},
   "outputs": [],
   "source": [
    "#Create bins in which data will be held. Bins are <10, 10-14, 15-19, 20-24, 25-29, 30-34, 35-39 >39.\n",
    "\n",
    "bins = [0,10,15,20,25,30,35,40, 45]\n",
    "age_ranges = [\"<10\", \"10-14\",\"15-19\", \"20-24\", \"25-29\", \"30-34\", \"35-39\", \">=40\"]\n",
    "\n",
    "# Cut purchase data and place the ages into bins\n",
    "pd.cut(purchase_data[\"Age\"], bins, labels=age_ranges)\n",
    "\n",
    "purchase_data[\"Age Range\"] = pd.cut(purchase_data[\"Age\"], bins, labels= age_ranges)\n",
    "purchase_data.head()"
   ]
  },
  {
   "cell_type": "code",
   "execution_count": null,
   "metadata": {},
   "outputs": [],
   "source": [
    "#Players percentage by age range.\n",
    "\n",
    "age_group_percentage_df = round(purchase_data[\"Age Range\"].value_counts()/780,2)*100\n",
    "\n",
    "age_group_percentage_df"
   ]
  },
  {
   "cell_type": "code",
   "execution_count": null,
   "metadata": {},
   "outputs": [],
   "source": [
    "# Purchase count by age range.\n",
    "age_group_count = (purchase_data[\"Age Range\"]).value_counts()"
   ]
  },
  {
   "cell_type": "code",
   "execution_count": null,
   "metadata": {},
   "outputs": [],
   "source": [
    "#Make a Summary Table with Age Group and Percentage\n",
    "age_count_and_percentage_df = pd.DataFrame({\"Age Group Percentage\":age_group_percentage_df,\"Age Group Count\":age_group_count})\n",
    "                                \n",
    "age_count_and_percentage_df"
   ]
  },
  {
   "cell_type": "markdown",
   "metadata": {},
   "source": [
    "## Purchasing Analysis (Age)"
   ]
  },
  {
   "cell_type": "markdown",
   "metadata": {},
   "source": [
    "* Bin the purchase_data data frame by age\n",
    "\n",
    "\n",
    "* Run basic calculations to obtain purchase count, avg. purchase price, avg. purchase total per person etc. in the table below\n",
    "\n",
    "\n",
    "* Create a summary data frame to hold the results\n",
    "\n",
    "\n",
    "* Optional: give the displayed data cleaner formatting\n",
    "\n",
    "\n",
    "* Display the summary data frame"
   ]
  },
  {
   "cell_type": "code",
   "execution_count": null,
   "metadata": {},
   "outputs": [],
   "source": [
    "#Create bins in which data will be held. Bins are <10, 10-14, 15-19, 20-24, 25-29, 30-34, 35-39 >39.\n",
    "\n",
    "bins = [0,10,15,20,25,30,35,40, 45]\n",
    "\n",
    "age_ranges = [\"<10\", \"10-14\",\"15-19\", \"20-24\", \"25-29\", \"30-34\", \"35-39\", \">=40\"]\n",
    "\n",
    "# Cut purchase data and place the ages into bins\n",
    "pd.cut(purchase_data[\"Age\"], bins, labels=age_ranges)"
   ]
  },
  {
   "cell_type": "code",
   "execution_count": null,
   "metadata": {},
   "outputs": [],
   "source": [
    "#Total Purchase by Age\n",
    "age_group_total_df = purchase_data.groupby(\"Age Range\")[\"Price\"].sum()\n",
    "\n",
    "age_group_total_df"
   ]
  },
  {
   "cell_type": "code",
   "execution_count": null,
   "metadata": {},
   "outputs": [],
   "source": [
    "# Purchase count by age range.\n",
    "age_group_count_df = purchase_data.groupby(\"Age Range\")[\"Item Name\"]\n",
    "\n",
    "age_group_count_df.count()"
   ]
  },
  {
   "cell_type": "code",
   "execution_count": null,
   "metadata": {},
   "outputs": [],
   "source": [
    "age_group_count_df = purchase_data.groupby(\"Age Range\")[\"Price\"]\n",
    "\n",
    "age_group_count_df.mean()"
   ]
  },
  {
   "cell_type": "markdown",
   "metadata": {},
   "source": [
    "## Top Spenders"
   ]
  },
  {
   "cell_type": "markdown",
   "metadata": {},
   "source": [
    "* Run basic calculations to obtain the results in the table below\n",
    "\n",
    "\n",
    "* Create a summary data frame to hold the results\n",
    "\n",
    "\n",
    "* Sort the total purchase value column in descending order\n",
    "\n",
    "\n",
    "* Optional: give the displayed data cleaner formatting\n",
    "\n",
    "\n",
    "* Display a preview of the summary data frame\n",
    "\n"
   ]
  },
  {
   "cell_type": "code",
   "execution_count": null,
   "metadata": {
    "scrolled": true
   },
   "outputs": [],
   "source": []
  },
  {
   "cell_type": "markdown",
   "metadata": {},
   "source": [
    "## Most Popular Items"
   ]
  },
  {
   "cell_type": "markdown",
   "metadata": {},
   "source": [
    "* Retrieve the Item ID, Item Name, and Item Price columns\n",
    "\n",
    "\n",
    "* Group by Item ID and Item Name. Perform calculations to obtain purchase count, item price, and total purchase value\n",
    "\n",
    "\n",
    "* Create a summary data frame to hold the results\n",
    "\n",
    "\n",
    "* Sort the purchase count column in descending order\n",
    "\n",
    "\n",
    "* Optional: give the displayed data cleaner formatting\n",
    "\n",
    "\n",
    "* Display a preview of the summary data frame\n",
    "\n"
   ]
  },
  {
   "cell_type": "code",
   "execution_count": null,
   "metadata": {},
   "outputs": [],
   "source": []
  },
  {
   "cell_type": "markdown",
   "metadata": {},
   "source": [
    "## Most Profitable Items"
   ]
  },
  {
   "cell_type": "markdown",
   "metadata": {},
   "source": [
    "* Sort the above table by total purchase value in descending order\n",
    "\n",
    "\n",
    "* Optional: give the displayed data cleaner formatting\n",
    "\n",
    "\n",
    "* Display a preview of the data frame\n",
    "\n"
   ]
  },
  {
   "cell_type": "code",
   "execution_count": null,
   "metadata": {
    "scrolled": true
   },
   "outputs": [],
   "source": []
  }
 ],
 "metadata": {
  "anaconda-cloud": {},
  "kernel_info": {
   "name": "python3"
  },
  "kernelspec": {
   "display_name": "Python 3",
   "language": "python",
   "name": "python3"
  },
  "language_info": {
   "codemirror_mode": {
    "name": "ipython",
    "version": 3
   },
   "file_extension": ".py",
   "mimetype": "text/x-python",
   "name": "python",
   "nbconvert_exporter": "python",
   "pygments_lexer": "ipython3",
   "version": "3.7.3"
  },
  "latex_envs": {
   "LaTeX_envs_menu_present": true,
   "autoclose": false,
   "autocomplete": true,
   "bibliofile": "biblio.bib",
   "cite_by": "apalike",
   "current_citInitial": 1,
   "eqLabelWithNumbers": true,
   "eqNumInitial": 1,
   "hotkeys": {
    "equation": "Ctrl-E",
    "itemize": "Ctrl-I"
   },
   "labels_anchors": false,
   "latex_user_defs": false,
   "report_style_numbering": false,
   "user_envs_cfg": false
  },
  "nteract": {
   "version": "0.2.0"
  }
 },
 "nbformat": 4,
 "nbformat_minor": 2
}
